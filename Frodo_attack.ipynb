{
 "cells": [
  {
   "cell_type": "markdown",
   "metadata": {},
   "source": [
    "This is a jupyter notebook detailling how to attack the compression function in LPR-like primitives.\n",
    "\n",
    "If you wish to perform a different attack using similar distinguishers, you can modify the 'create_tab' function."
   ]
  },
  {
   "cell_type": "markdown",
   "metadata": {},
   "source": [
    "Throughout this work, the results returned are the INDEXES of the dataframe. To compute the corresponding bias, using the following formula:\n",
    "\n",
    "bias = + q*(index+1)/2^d"
   ]
  },
  {
   "cell_type": "markdown",
   "metadata": {},
   "source": [
    "/ _ ! _ \\ Warning / _ ! _ \\ \n",
    "\n",
    "This version of the notebook does not have a fully recursive implementation of the adaptive attack. Thus, the adaptive attack only has a depth of 2 choices."
   ]
  },
  {
   "cell_type": "code",
   "execution_count": 1,
   "metadata": {},
   "outputs": [],
   "source": [
    "import pandas as pd #for dataframe\n",
    "import itertools as iter #for combinatorix\n",
    "\n",
    "#Hamming Weight\n",
    "def hw(a):\n",
    "    return bin(a).count('1')\n",
    "\n",
    "#Creates the table of the difference between the HW of the line index \n",
    "# and the HW of the line index + the column index modulus the number of lines\n",
    "def create_tab(d):\n",
    "    siz = pow(2,d)\n",
    "    return [[hw((j+i+1)%siz)-hw(i) for j in range(siz-1)]for i in range(siz)]\n",
    "\n",
    "#Variant of create_tab which outputs a pandas data frame\n",
    "def create_tab_pd(d):\n",
    "    dat = create_tab(d)\n",
    "    return pd.DataFrame(dat)\n",
    "\n",
    "#Creates a list of all possible combinations of e elements of a list of size siz\n",
    "def list_combi(siz,e):\n",
    "    finlis=[]\n",
    "    elem=list(range(0,siz-1))\n",
    "    combi=iter.combinations(elem,e)\n",
    "    for c in combi:\n",
    "        lis=[]\n",
    "        for sc in c:\n",
    "            lis.append(sc)\n",
    "        finlis.append(lis)    \n",
    "    return finlis\n",
    "\n",
    "#Returns a list of column index combinations for which there is no duplicated lines \n",
    "# when considering these specific combinations of columns \n",
    "def no_dup_list(df,e):\n",
    "    finlis=[]\n",
    "    com = list_combi(df.shape[1],e)\n",
    "    for c in com:\n",
    "        if df.iloc[:, lambda df: c].duplicated().any() == False:\n",
    "            finlis.append(c)\n",
    "    return finlis\n",
    "\n",
    "#For a specific index i, returns a list of column indexes such as there is no duplicated \n",
    "# lines when considering these specific columns and the one of index i\n",
    "def no_dup_no_comb(df,i):\n",
    "    finlis=[]\n",
    "    com= []\n",
    "    for j in range(0,df.shape[1]):\n",
    "        if j!=i:\n",
    "            com.append([i,j])\n",
    "    for c in com:\n",
    "        if df.iloc[:, lambda df: c].duplicated().any() == False:\n",
    "            finlis.append(c)\n",
    "    return finlis\n",
    "\n",
    "#Computes the number of bits recovered from a list of values: \n",
    "# pos computes the number of bits certain to be 1 with the HW of the AND of the values \n",
    "# neg computes the number of bits certain to be 0 with the HW of the AND of the NOT of the values\n",
    "def bit_recovery(d,l):\n",
    "    mask=pow(2,d)-1\n",
    "    pos = mask\n",
    "    neg = pos\n",
    "    for i in l:\n",
    "        pos = i & pos\n",
    "        neg = neg & (i^mask)\n",
    "    return hw(pos) + hw(neg)\n",
    "\n",
    "#Returns the list of average bit recovery for every bias for a specific parameter d\n",
    "def average_recovery(d):\n",
    "    df = create_tab_pd(d)\n",
    "    siz = pow(2,d)\n",
    "    av_list = []\n",
    "    for i in range(0,siz-1):\n",
    "        av=0\n",
    "        valu = df[i].drop_duplicates().values\n",
    "        for v in valu:\n",
    "            df_val=df[df[i]==v]\n",
    "            valind=df_val.index.values.astype(int)\n",
    "            res = bit_recovery(d,valind)\n",
    "            av += res*df_val.shape[0]\n",
    "        av_list.append([i,av/siz])\n",
    "    return av_list\n",
    "\n",
    "#Outputs the list of all possible attacks of e biases against the parameter d\n",
    "def straight_attack(d,e):\n",
    "    df = create_tab_pd(d)\n",
    "    lis = no_dup_list(df,e)\n",
    "    if not lis:\n",
    "        print(\"There is no complete recovery for d = %d and only %d attempts\"%(d,e))\n",
    "    else:\n",
    "        print(\"An example of complete recovery for d=%d in %d attempts is:\"%(d,e))\n",
    "        print(df.iloc[:,lambda df:lis[0]])\n",
    "\n",
    "#Ouputs the first possible adaptive attack of depth 2 by increasing order of indexes \n",
    "# against the parameter d \n",
    "def adaptive_attack(d):\n",
    "    df = create_tab_pd(d)\n",
    "    for i in range(0,df.shape[1]):\n",
    "        val_list=[]\n",
    "        valu = df[i].drop_duplicates().values\n",
    "        check = True\n",
    "        for v in valu:\n",
    "            df_val = df[df[i]==v]\n",
    "            list = no_dup_no_comb(df_val,i)\n",
    "            if not list:\n",
    "                check &= False\n",
    "                break\n",
    "            else:\n",
    "                val_list.append([v,list[0]])\n",
    "        if check:\n",
    "            print(i)\n",
    "            for v in val_list:\n",
    "                df_v = df[(df[i]==v[0])]\n",
    "                print(df_v.iloc[:,lambda df_v: v[1]])\n",
    "            return val_list\n",
    "    return []"
   ]
  },
  {
   "cell_type": "markdown",
   "metadata": {},
   "source": [
    "Chosen-ciphertext non-adaptative attack against Frodo-976. Returns a set of biases to use to perform a complete message recovery in only 2 guesses."
   ]
  },
  {
   "cell_type": "code",
   "execution_count": 2,
   "metadata": {},
   "outputs": [
    {
     "name": "stdout",
     "output_type": "stream",
     "text": [
      "An example of complete recovery for d=3 in 2 attempts is:\n",
      "   1  4\n",
      "0  1  2\n",
      "1  1  1\n",
      "2  0  2\n",
      "3  0 -2\n",
      "4  1  0\n",
      "5  1 -1\n",
      "6 -2  0\n",
      "7 -2 -2\n"
     ]
    }
   ],
   "source": [
    "straight_attack(3,2)"
   ]
  },
  {
   "cell_type": "markdown",
   "metadata": {},
   "source": [
    "Chosen-ciphertext non-adaptative attack against Frodo-1344. Highlights there is no possible complete message recovery in only 2 guesses"
   ]
  },
  {
   "cell_type": "code",
   "execution_count": 3,
   "metadata": {},
   "outputs": [
    {
     "name": "stdout",
     "output_type": "stream",
     "text": [
      "There is no complete recovery for d = 4 and only 2 attempts\n"
     ]
    }
   ],
   "source": [
    "straight_attack(4,2)"
   ]
  },
  {
   "cell_type": "markdown",
   "metadata": {},
   "source": [
    "Chosen-ciphertext non-adaptative attack against Frodo-1344. Returns an example of 3 biases to test for a complete message recovery"
   ]
  },
  {
   "cell_type": "code",
   "execution_count": 4,
   "metadata": {},
   "outputs": [
    {
     "name": "stdout",
     "output_type": "stream",
     "text": [
      "An example of complete recovery for d=4 in 3 attempts is:\n",
      "    0  3  9\n",
      "0   1  1  2\n",
      "1   0  1  2\n",
      "2   1  1  1\n",
      "3  -1  1  1\n",
      "4   1  0  2\n",
      "5   0  0  2\n",
      "6   1  0 -2\n",
      "7  -2  0 -2\n",
      "8   1  1  0\n",
      "9   0  1  0\n",
      "10  1  1 -1\n",
      "11 -1  1 -1\n",
      "12  1 -2  0\n",
      "13  0 -2  0\n",
      "14  1 -2 -2\n",
      "15 -4 -2 -2\n"
     ]
    }
   ],
   "source": [
    "straight_attack(4,3)"
   ]
  },
  {
   "cell_type": "markdown",
   "metadata": {},
   "source": [
    "Chosen-ciphertext adaptative attack against Frodo-1344. Returns an example of a first guess followed by a list of possible guesses depending on the first result"
   ]
  },
  {
   "cell_type": "code",
   "execution_count": 5,
   "metadata": {},
   "outputs": [
    {
     "name": "stdout",
     "output_type": "stream",
     "text": [
      "4\n",
      "    4  9\n",
      "0   2  2\n",
      "2   2  1\n",
      "8   2  0\n",
      "10  2 -1\n",
      "   4  6\n",
      "1  1  0\n",
      "4  1  2\n",
      "6  1  1\n",
      "9  1 -2\n",
      "    4  1\n",
      "3  -1  0\n",
      "7  -1 -1\n",
      "12 -1  1\n",
      "14 -1 -3\n",
      "   4  0\n",
      "5  0  0\n",
      "    4  0\n",
      "11 -3 -1\n",
      "15 -3 -4\n",
      "    4  0\n",
      "13 -2  0\n"
     ]
    },
    {
     "data": {
      "text/plain": [
       "[[np.int64(2), [4, 9]],\n",
       " [np.int64(1), [4, 6]],\n",
       " [np.int64(-1), [4, 1]],\n",
       " [np.int64(0), [4, 0]],\n",
       " [np.int64(-3), [4, 0]],\n",
       " [np.int64(-2), [4, 0]]]"
      ]
     },
     "execution_count": 5,
     "metadata": {},
     "output_type": "execute_result"
    }
   ],
   "source": [
    "adaptive_attack(4)"
   ]
  },
  {
   "cell_type": "markdown",
   "metadata": {},
   "source": [
    "Evaluation of the average bit recovery for each bias in the Frodo-640 case"
   ]
  },
  {
   "cell_type": "code",
   "execution_count": 6,
   "metadata": {},
   "outputs": [
    {
     "data": {
      "text/plain": [
       "[[0, 1.5], [1, 1.0], [2, 1.5]]"
      ]
     },
     "execution_count": 6,
     "metadata": {},
     "output_type": "execute_result"
    }
   ],
   "source": [
    "average_recovery(2)"
   ]
  },
  {
   "cell_type": "markdown",
   "metadata": {},
   "source": [
    "Evaluation of the average bit recovery for each bias in the Frodo-976 case"
   ]
  },
  {
   "cell_type": "code",
   "execution_count": 7,
   "metadata": {},
   "outputs": [
    {
     "data": {
      "text/plain": [
       "[[0, 1.75], [1, 1.5], [2, 2.25], [3, 1.0], [4, 2.25], [5, 1.5], [6, 1.75]]"
      ]
     },
     "execution_count": 7,
     "metadata": {},
     "output_type": "execute_result"
    }
   ],
   "source": [
    "average_recovery(3)"
   ]
  },
  {
   "cell_type": "markdown",
   "metadata": {},
   "source": [
    "Evaluation of the average bit recovery for each bias in the Frodo-1344 case"
   ]
  },
  {
   "cell_type": "code",
   "execution_count": 8,
   "metadata": {},
   "outputs": [
    {
     "data": {
      "text/plain": [
       "[[0, 1.875],\n",
       " [1, 1.75],\n",
       " [2, 1.875],\n",
       " [3, 1.5],\n",
       " [4, 1.375],\n",
       " [5, 2.25],\n",
       " [6, 1.875],\n",
       " [7, 1.0],\n",
       " [8, 1.875],\n",
       " [9, 2.25],\n",
       " [10, 1.375],\n",
       " [11, 1.5],\n",
       " [12, 1.875],\n",
       " [13, 1.75],\n",
       " [14, 1.875]]"
      ]
     },
     "execution_count": 8,
     "metadata": {},
     "output_type": "execute_result"
    }
   ],
   "source": [
    "average_recovery(4)"
   ]
  },
  {
   "cell_type": "code",
   "execution_count": null,
   "metadata": {},
   "outputs": [],
   "source": []
  }
 ],
 "metadata": {
  "kernelspec": {
   "display_name": "Python 3",
   "language": "python",
   "name": "python3"
  },
  "language_info": {
   "codemirror_mode": {
    "name": "ipython",
    "version": 3
   },
   "file_extension": ".py",
   "mimetype": "text/x-python",
   "name": "python",
   "nbconvert_exporter": "python",
   "pygments_lexer": "ipython3",
   "version": "3.11.5"
  }
 },
 "nbformat": 4,
 "nbformat_minor": 2
}
